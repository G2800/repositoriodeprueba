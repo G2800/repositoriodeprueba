{
  "nbformat": 4,
  "nbformat_minor": 0,
  "metadata": {
    "colab": {
      "provenance": []
    },
    "kernelspec": {
      "name": "python3",
      "display_name": "Python 3"
    },
    "language_info": {
      "name": "python"
    }
  },
  "cells": [
    {
      "cell_type": "code",
      "source": [
        "!pip install chardet\n",
        "!pip install geopandas"
      ],
      "metadata": {
        "colab": {
          "base_uri": "https://localhost:8080/"
        },
        "id": "V7LkcsLwKokV",
        "outputId": "4c1bcf60-4658-4446-c2e7-63be8a1299a3"
      },
      "execution_count": null,
      "outputs": [
        {
          "output_type": "stream",
          "name": "stdout",
          "text": [
            "Looking in indexes: https://pypi.org/simple, https://us-python.pkg.dev/colab-wheels/public/simple/\n",
            "Requirement already satisfied: chardet in /usr/lib/python3/dist-packages (3.0.4)\n",
            "Looking in indexes: https://pypi.org/simple, https://us-python.pkg.dev/colab-wheels/public/simple/\n",
            "Collecting geopandas\n",
            "  Downloading geopandas-0.12.2-py3-none-any.whl (1.1 MB)\n",
            "\u001b[2K     \u001b[90m━━━━━━━━━━━━━━━━━━━━━━━━━━━━━━━━━━━━━━━━\u001b[0m \u001b[32m1.1/1.1 MB\u001b[0m \u001b[31m42.5 MB/s\u001b[0m eta \u001b[36m0:00:00\u001b[0m\n",
            "\u001b[?25hRequirement already satisfied: packaging in /usr/local/lib/python3.9/dist-packages (from geopandas) (23.0)\n",
            "Requirement already satisfied: pandas>=1.0.0 in /usr/local/lib/python3.9/dist-packages (from geopandas) (1.4.4)\n",
            "Collecting fiona>=1.8\n",
            "  Downloading Fiona-1.9.1-cp39-cp39-manylinux_2_17_x86_64.manylinux2014_x86_64.whl (16.0 MB)\n",
            "\u001b[2K     \u001b[90m━━━━━━━━━━━━━━━━━━━━━━━━━━━━━━━━━━━━━━━\u001b[0m \u001b[32m16.0/16.0 MB\u001b[0m \u001b[31m109.3 MB/s\u001b[0m eta \u001b[36m0:00:00\u001b[0m\n",
            "\u001b[?25hCollecting pyproj>=2.6.1.post1\n",
            "  Downloading pyproj-3.4.1-cp39-cp39-manylinux_2_17_x86_64.manylinux2014_x86_64.whl (7.7 MB)\n",
            "\u001b[2K     \u001b[90m━━━━━━━━━━━━━━━━━━━━━━━━━━━━━━━━━━━━━━━━\u001b[0m \u001b[32m7.7/7.7 MB\u001b[0m \u001b[31m122.3 MB/s\u001b[0m eta \u001b[36m0:00:00\u001b[0m\n",
            "\u001b[?25hRequirement already satisfied: shapely>=1.7 in /usr/local/lib/python3.9/dist-packages (from geopandas) (2.0.1)\n",
            "Requirement already satisfied: certifi in /usr/local/lib/python3.9/dist-packages (from fiona>=1.8->geopandas) (2022.12.7)\n",
            "Collecting munch>=2.3.2\n",
            "  Downloading munch-2.5.0-py2.py3-none-any.whl (10 kB)\n",
            "Requirement already satisfied: attrs>=19.2.0 in /usr/local/lib/python3.9/dist-packages (from fiona>=1.8->geopandas) (22.2.0)\n",
            "Collecting cligj>=0.5\n",
            "  Downloading cligj-0.7.2-py3-none-any.whl (7.1 kB)\n",
            "Collecting click-plugins>=1.0\n",
            "  Downloading click_plugins-1.1.1-py2.py3-none-any.whl (7.5 kB)\n",
            "Requirement already satisfied: click~=8.0 in /usr/local/lib/python3.9/dist-packages (from fiona>=1.8->geopandas) (8.1.3)\n",
            "Requirement already satisfied: setuptools in /usr/local/lib/python3.9/dist-packages (from fiona>=1.8->geopandas) (63.4.3)\n",
            "Requirement already satisfied: numpy>=1.18.5 in /usr/local/lib/python3.9/dist-packages (from pandas>=1.0.0->geopandas) (1.22.4)\n",
            "Requirement already satisfied: python-dateutil>=2.8.1 in /usr/local/lib/python3.9/dist-packages (from pandas>=1.0.0->geopandas) (2.8.2)\n",
            "Requirement already satisfied: pytz>=2020.1 in /usr/local/lib/python3.9/dist-packages (from pandas>=1.0.0->geopandas) (2022.7.1)\n",
            "Requirement already satisfied: six in /usr/local/lib/python3.9/dist-packages (from munch>=2.3.2->fiona>=1.8->geopandas) (1.15.0)\n",
            "Installing collected packages: pyproj, munch, cligj, click-plugins, fiona, geopandas\n",
            "Successfully installed click-plugins-1.1.1 cligj-0.7.2 fiona-1.9.1 geopandas-0.12.2 munch-2.5.0 pyproj-3.4.1\n"
          ]
        }
      ]
    },
    {
      "cell_type": "code",
      "source": [
        "import pandas as pd\n",
        "from pandas import Series, DataFrame\n",
        "import numpy as np\n",
        "import matplotlib.pyplot as plt \n",
        "import chardet"
      ],
      "metadata": {
        "id": "lUuWJfi_KIjb"
      },
      "execution_count": null,
      "outputs": []
    },
    {
      "cell_type": "code",
      "source": [
        "import geopandas as gpd\n",
        "from geopandas import GeoSeries\n",
        "from shapely.geometry import Point, LineString\n",
        "import folium \n",
        "from folium import Marker, GeoJson\n",
        "from folium.plugins import MarkerCluster, HeatMap"
      ],
      "metadata": {
        "id": "xzi8auOzKT3n"
      },
      "execution_count": null,
      "outputs": []
    },
    {
      "cell_type": "code",
      "source": [
        "\n",
        "import pandas as pd\n",
        "\n",
        "link = \"https://raw.githubusercontent.com/alexanderquispe/Diplomado_PUCP/main/_data/data_dengue_peru.csv\"\n",
        "data = pd.read_csv(link)\n",
        "data.head(3)"
      ],
      "metadata": {
        "colab": {
          "base_uri": "https://localhost:8080/",
          "height": 178
        },
        "id": "JxOe8s1U3PhO",
        "outputId": "17315570-0514-4aff-da4e-f31619acf5f2"
      },
      "execution_count": null,
      "outputs": [
        {
          "output_type": "stream",
          "name": "stderr",
          "text": [
            "<ipython-input-21-32c2c2622941>:4: DtypeWarning: Columns (7) have mixed types. Specify dtype option on import or set low_memory=False.\n",
            "  data = pd.read_csv(link)\n"
          ]
        },
        {
          "output_type": "execute_result",
          "data": {
            "text/plain": [
              "    Año  Semana Eventos o daños Departamento   Distrito       Provincia  \\\n",
              "0  2020      43          Dengue        CUSCO  MEGANTONI   LA CONVENCION   \n",
              "1  2021      41          Dengue     MOQUEGUA   MOQUEGUA  MARISCAL NIETO   \n",
              "2  2021      42          Dengue     MOQUEGUA   MOQUEGUA  MARISCAL NIETO   \n",
              "\n",
              "   Ubigeo Casos  \n",
              "0   80914   2.0  \n",
              "1  180101   NaN  \n",
              "2  180101   NaN  "
            ],
            "text/html": [
              "\n",
              "  <div id=\"df-4a1297c6-94ea-41d7-8126-d29d8fd01a6e\">\n",
              "    <div class=\"colab-df-container\">\n",
              "      <div>\n",
              "<style scoped>\n",
              "    .dataframe tbody tr th:only-of-type {\n",
              "        vertical-align: middle;\n",
              "    }\n",
              "\n",
              "    .dataframe tbody tr th {\n",
              "        vertical-align: top;\n",
              "    }\n",
              "\n",
              "    .dataframe thead th {\n",
              "        text-align: right;\n",
              "    }\n",
              "</style>\n",
              "<table border=\"1\" class=\"dataframe\">\n",
              "  <thead>\n",
              "    <tr style=\"text-align: right;\">\n",
              "      <th></th>\n",
              "      <th>Año</th>\n",
              "      <th>Semana</th>\n",
              "      <th>Eventos o daños</th>\n",
              "      <th>Departamento</th>\n",
              "      <th>Distrito</th>\n",
              "      <th>Provincia</th>\n",
              "      <th>Ubigeo</th>\n",
              "      <th>Casos</th>\n",
              "    </tr>\n",
              "  </thead>\n",
              "  <tbody>\n",
              "    <tr>\n",
              "      <th>0</th>\n",
              "      <td>2020</td>\n",
              "      <td>43</td>\n",
              "      <td>Dengue</td>\n",
              "      <td>CUSCO</td>\n",
              "      <td>MEGANTONI</td>\n",
              "      <td>LA CONVENCION</td>\n",
              "      <td>80914</td>\n",
              "      <td>2.0</td>\n",
              "    </tr>\n",
              "    <tr>\n",
              "      <th>1</th>\n",
              "      <td>2021</td>\n",
              "      <td>41</td>\n",
              "      <td>Dengue</td>\n",
              "      <td>MOQUEGUA</td>\n",
              "      <td>MOQUEGUA</td>\n",
              "      <td>MARISCAL NIETO</td>\n",
              "      <td>180101</td>\n",
              "      <td>NaN</td>\n",
              "    </tr>\n",
              "    <tr>\n",
              "      <th>2</th>\n",
              "      <td>2021</td>\n",
              "      <td>42</td>\n",
              "      <td>Dengue</td>\n",
              "      <td>MOQUEGUA</td>\n",
              "      <td>MOQUEGUA</td>\n",
              "      <td>MARISCAL NIETO</td>\n",
              "      <td>180101</td>\n",
              "      <td>NaN</td>\n",
              "    </tr>\n",
              "  </tbody>\n",
              "</table>\n",
              "</div>\n",
              "      <button class=\"colab-df-convert\" onclick=\"convertToInteractive('df-4a1297c6-94ea-41d7-8126-d29d8fd01a6e')\"\n",
              "              title=\"Convert this dataframe to an interactive table.\"\n",
              "              style=\"display:none;\">\n",
              "        \n",
              "  <svg xmlns=\"http://www.w3.org/2000/svg\" height=\"24px\"viewBox=\"0 0 24 24\"\n",
              "       width=\"24px\">\n",
              "    <path d=\"M0 0h24v24H0V0z\" fill=\"none\"/>\n",
              "    <path d=\"M18.56 5.44l.94 2.06.94-2.06 2.06-.94-2.06-.94-.94-2.06-.94 2.06-2.06.94zm-11 1L8.5 8.5l.94-2.06 2.06-.94-2.06-.94L8.5 2.5l-.94 2.06-2.06.94zm10 10l.94 2.06.94-2.06 2.06-.94-2.06-.94-.94-2.06-.94 2.06-2.06.94z\"/><path d=\"M17.41 7.96l-1.37-1.37c-.4-.4-.92-.59-1.43-.59-.52 0-1.04.2-1.43.59L10.3 9.45l-7.72 7.72c-.78.78-.78 2.05 0 2.83L4 21.41c.39.39.9.59 1.41.59.51 0 1.02-.2 1.41-.59l7.78-7.78 2.81-2.81c.8-.78.8-2.07 0-2.86zM5.41 20L4 18.59l7.72-7.72 1.47 1.35L5.41 20z\"/>\n",
              "  </svg>\n",
              "      </button>\n",
              "      \n",
              "  <style>\n",
              "    .colab-df-container {\n",
              "      display:flex;\n",
              "      flex-wrap:wrap;\n",
              "      gap: 12px;\n",
              "    }\n",
              "\n",
              "    .colab-df-convert {\n",
              "      background-color: #E8F0FE;\n",
              "      border: none;\n",
              "      border-radius: 50%;\n",
              "      cursor: pointer;\n",
              "      display: none;\n",
              "      fill: #1967D2;\n",
              "      height: 32px;\n",
              "      padding: 0 0 0 0;\n",
              "      width: 32px;\n",
              "    }\n",
              "\n",
              "    .colab-df-convert:hover {\n",
              "      background-color: #E2EBFA;\n",
              "      box-shadow: 0px 1px 2px rgba(60, 64, 67, 0.3), 0px 1px 3px 1px rgba(60, 64, 67, 0.15);\n",
              "      fill: #174EA6;\n",
              "    }\n",
              "\n",
              "    [theme=dark] .colab-df-convert {\n",
              "      background-color: #3B4455;\n",
              "      fill: #D2E3FC;\n",
              "    }\n",
              "\n",
              "    [theme=dark] .colab-df-convert:hover {\n",
              "      background-color: #434B5C;\n",
              "      box-shadow: 0px 1px 3px 1px rgba(0, 0, 0, 0.15);\n",
              "      filter: drop-shadow(0px 1px 2px rgba(0, 0, 0, 0.3));\n",
              "      fill: #FFFFFF;\n",
              "    }\n",
              "  </style>\n",
              "\n",
              "      <script>\n",
              "        const buttonEl =\n",
              "          document.querySelector('#df-4a1297c6-94ea-41d7-8126-d29d8fd01a6e button.colab-df-convert');\n",
              "        buttonEl.style.display =\n",
              "          google.colab.kernel.accessAllowed ? 'block' : 'none';\n",
              "\n",
              "        async function convertToInteractive(key) {\n",
              "          const element = document.querySelector('#df-4a1297c6-94ea-41d7-8126-d29d8fd01a6e');\n",
              "          const dataTable =\n",
              "            await google.colab.kernel.invokeFunction('convertToInteractive',\n",
              "                                                     [key], {});\n",
              "          if (!dataTable) return;\n",
              "\n",
              "          const docLinkHtml = 'Like what you see? Visit the ' +\n",
              "            '<a target=\"_blank\" href=https://colab.research.google.com/notebooks/data_table.ipynb>data table notebook</a>'\n",
              "            + ' to learn more about interactive tables.';\n",
              "          element.innerHTML = '';\n",
              "          dataTable['output_type'] = 'display_data';\n",
              "          await google.colab.output.renderOutput(dataTable, element);\n",
              "          const docLink = document.createElement('div');\n",
              "          docLink.innerHTML = docLinkHtml;\n",
              "          element.appendChild(docLink);\n",
              "        }\n",
              "      </script>\n",
              "    </div>\n",
              "  </div>\n",
              "  "
            ]
          },
          "metadata": {},
          "execution_count": 21
        }
      ]
    },
    {
      "cell_type": "code",
      "source": [
        "#Check type value\n",
        "data.dtypes"
      ],
      "metadata": {
        "colab": {
          "base_uri": "https://localhost:8080/"
        },
        "id": "DSIgdHde3V2h",
        "outputId": "1415cf91-7960-4b37-c1c2-cdcdc8123753"
      },
      "execution_count": null,
      "outputs": [
        {
          "output_type": "execute_result",
          "data": {
            "text/plain": [
              "Año                 int64\n",
              "Semana              int64\n",
              "Eventos o daños    object\n",
              "Departamento       object\n",
              "Distrito           object\n",
              "Provincia          object\n",
              "Ubigeo              int64\n",
              "Casos              object\n",
              "dtype: object"
            ]
          },
          "metadata": {},
          "execution_count": 23
        }
      ]
    },
    {
      "cell_type": "markdown",
      "source": [
        "2.-Generate ubigeo for Departments and Provinces taking the first two and four numbers.\n"
      ],
      "metadata": {
        "id": "-HVH258s3Y0o"
      }
    },
    {
      "cell_type": "code",
      "source": [
        "data[\"Ubigeo\"].isna().sum()"
      ],
      "metadata": {
        "colab": {
          "base_uri": "https://localhost:8080/"
        },
        "id": "RNojcm363fjK",
        "outputId": "0c043f77-27f6-419a-8668-72a55ad00b1b"
      },
      "execution_count": null,
      "outputs": [
        {
          "output_type": "execute_result",
          "data": {
            "text/plain": [
              "0"
            ]
          },
          "metadata": {},
          "execution_count": 24
        }
      ]
    },
    {
      "cell_type": "code",
      "source": [
        "data[\"UBIGEO\"]=data[\"Ubigeo\"].apply(lambda x:str(x))\n",
        "def complete_ubigeo(ubigeo):\n",
        "    if len(ubigeo)<6:\n",
        "        ubigeo = \"0\"+ubigeo\n",
        "    return ubigeo\n",
        "data[\"UBIGEO\"]=data[\"UBIGEO\"].apply(complete_ubigeo)\n"
      ],
      "metadata": {
        "id": "QWngJdFa3kMf"
      },
      "execution_count": null,
      "outputs": []
    },
    {
      "cell_type": "code",
      "source": [
        "\n",
        "data[\"CCDD\"]=data[\"UBIGEO\"].apply(lambda x : x[:2])\n",
        "data[\"IDPROV\"]=data[\"UBIGEO\"].apply(lambda x : x[:4])"
      ],
      "metadata": {
        "id": "erY3faJq3oLe"
      },
      "execution_count": null,
      "outputs": []
    },
    {
      "cell_type": "code",
      "source": [
        "data.head(3)"
      ],
      "metadata": {
        "colab": {
          "base_uri": "https://localhost:8080/",
          "height": 143
        },
        "id": "9CqUkodZ3uYA",
        "outputId": "9515c47b-10c6-49eb-eff5-2bc824bdaea5"
      },
      "execution_count": null,
      "outputs": [
        {
          "output_type": "execute_result",
          "data": {
            "text/plain": [
              "    Año  Semana Eventos o daños Departamento   Distrito       Provincia  \\\n",
              "0  2020      43          Dengue        CUSCO  MEGANTONI   LA CONVENCION   \n",
              "1  2021      41          Dengue     MOQUEGUA   MOQUEGUA  MARISCAL NIETO   \n",
              "2  2021      42          Dengue     MOQUEGUA   MOQUEGUA  MARISCAL NIETO   \n",
              "\n",
              "   Ubigeo Casos  UBIGEO CCDD IDPROV  \n",
              "0   80914   2.0  080914   08   0809  \n",
              "1  180101   NaN  180101   18   1801  \n",
              "2  180101   NaN  180101   18   1801  "
            ],
            "text/html": [
              "\n",
              "  <div id=\"df-f3d25197-4aaa-4a91-82c2-14a73c92fbaa\">\n",
              "    <div class=\"colab-df-container\">\n",
              "      <div>\n",
              "<style scoped>\n",
              "    .dataframe tbody tr th:only-of-type {\n",
              "        vertical-align: middle;\n",
              "    }\n",
              "\n",
              "    .dataframe tbody tr th {\n",
              "        vertical-align: top;\n",
              "    }\n",
              "\n",
              "    .dataframe thead th {\n",
              "        text-align: right;\n",
              "    }\n",
              "</style>\n",
              "<table border=\"1\" class=\"dataframe\">\n",
              "  <thead>\n",
              "    <tr style=\"text-align: right;\">\n",
              "      <th></th>\n",
              "      <th>Año</th>\n",
              "      <th>Semana</th>\n",
              "      <th>Eventos o daños</th>\n",
              "      <th>Departamento</th>\n",
              "      <th>Distrito</th>\n",
              "      <th>Provincia</th>\n",
              "      <th>Ubigeo</th>\n",
              "      <th>Casos</th>\n",
              "      <th>UBIGEO</th>\n",
              "      <th>CCDD</th>\n",
              "      <th>IDPROV</th>\n",
              "    </tr>\n",
              "  </thead>\n",
              "  <tbody>\n",
              "    <tr>\n",
              "      <th>0</th>\n",
              "      <td>2020</td>\n",
              "      <td>43</td>\n",
              "      <td>Dengue</td>\n",
              "      <td>CUSCO</td>\n",
              "      <td>MEGANTONI</td>\n",
              "      <td>LA CONVENCION</td>\n",
              "      <td>80914</td>\n",
              "      <td>2.0</td>\n",
              "      <td>080914</td>\n",
              "      <td>08</td>\n",
              "      <td>0809</td>\n",
              "    </tr>\n",
              "    <tr>\n",
              "      <th>1</th>\n",
              "      <td>2021</td>\n",
              "      <td>41</td>\n",
              "      <td>Dengue</td>\n",
              "      <td>MOQUEGUA</td>\n",
              "      <td>MOQUEGUA</td>\n",
              "      <td>MARISCAL NIETO</td>\n",
              "      <td>180101</td>\n",
              "      <td>NaN</td>\n",
              "      <td>180101</td>\n",
              "      <td>18</td>\n",
              "      <td>1801</td>\n",
              "    </tr>\n",
              "    <tr>\n",
              "      <th>2</th>\n",
              "      <td>2021</td>\n",
              "      <td>42</td>\n",
              "      <td>Dengue</td>\n",
              "      <td>MOQUEGUA</td>\n",
              "      <td>MOQUEGUA</td>\n",
              "      <td>MARISCAL NIETO</td>\n",
              "      <td>180101</td>\n",
              "      <td>NaN</td>\n",
              "      <td>180101</td>\n",
              "      <td>18</td>\n",
              "      <td>1801</td>\n",
              "    </tr>\n",
              "  </tbody>\n",
              "</table>\n",
              "</div>\n",
              "      <button class=\"colab-df-convert\" onclick=\"convertToInteractive('df-f3d25197-4aaa-4a91-82c2-14a73c92fbaa')\"\n",
              "              title=\"Convert this dataframe to an interactive table.\"\n",
              "              style=\"display:none;\">\n",
              "        \n",
              "  <svg xmlns=\"http://www.w3.org/2000/svg\" height=\"24px\"viewBox=\"0 0 24 24\"\n",
              "       width=\"24px\">\n",
              "    <path d=\"M0 0h24v24H0V0z\" fill=\"none\"/>\n",
              "    <path d=\"M18.56 5.44l.94 2.06.94-2.06 2.06-.94-2.06-.94-.94-2.06-.94 2.06-2.06.94zm-11 1L8.5 8.5l.94-2.06 2.06-.94-2.06-.94L8.5 2.5l-.94 2.06-2.06.94zm10 10l.94 2.06.94-2.06 2.06-.94-2.06-.94-.94-2.06-.94 2.06-2.06.94z\"/><path d=\"M17.41 7.96l-1.37-1.37c-.4-.4-.92-.59-1.43-.59-.52 0-1.04.2-1.43.59L10.3 9.45l-7.72 7.72c-.78.78-.78 2.05 0 2.83L4 21.41c.39.39.9.59 1.41.59.51 0 1.02-.2 1.41-.59l7.78-7.78 2.81-2.81c.8-.78.8-2.07 0-2.86zM5.41 20L4 18.59l7.72-7.72 1.47 1.35L5.41 20z\"/>\n",
              "  </svg>\n",
              "      </button>\n",
              "      \n",
              "  <style>\n",
              "    .colab-df-container {\n",
              "      display:flex;\n",
              "      flex-wrap:wrap;\n",
              "      gap: 12px;\n",
              "    }\n",
              "\n",
              "    .colab-df-convert {\n",
              "      background-color: #E8F0FE;\n",
              "      border: none;\n",
              "      border-radius: 50%;\n",
              "      cursor: pointer;\n",
              "      display: none;\n",
              "      fill: #1967D2;\n",
              "      height: 32px;\n",
              "      padding: 0 0 0 0;\n",
              "      width: 32px;\n",
              "    }\n",
              "\n",
              "    .colab-df-convert:hover {\n",
              "      background-color: #E2EBFA;\n",
              "      box-shadow: 0px 1px 2px rgba(60, 64, 67, 0.3), 0px 1px 3px 1px rgba(60, 64, 67, 0.15);\n",
              "      fill: #174EA6;\n",
              "    }\n",
              "\n",
              "    [theme=dark] .colab-df-convert {\n",
              "      background-color: #3B4455;\n",
              "      fill: #D2E3FC;\n",
              "    }\n",
              "\n",
              "    [theme=dark] .colab-df-convert:hover {\n",
              "      background-color: #434B5C;\n",
              "      box-shadow: 0px 1px 3px 1px rgba(0, 0, 0, 0.15);\n",
              "      filter: drop-shadow(0px 1px 2px rgba(0, 0, 0, 0.3));\n",
              "      fill: #FFFFFF;\n",
              "    }\n",
              "  </style>\n",
              "\n",
              "      <script>\n",
              "        const buttonEl =\n",
              "          document.querySelector('#df-f3d25197-4aaa-4a91-82c2-14a73c92fbaa button.colab-df-convert');\n",
              "        buttonEl.style.display =\n",
              "          google.colab.kernel.accessAllowed ? 'block' : 'none';\n",
              "\n",
              "        async function convertToInteractive(key) {\n",
              "          const element = document.querySelector('#df-f3d25197-4aaa-4a91-82c2-14a73c92fbaa');\n",
              "          const dataTable =\n",
              "            await google.colab.kernel.invokeFunction('convertToInteractive',\n",
              "                                                     [key], {});\n",
              "          if (!dataTable) return;\n",
              "\n",
              "          const docLinkHtml = 'Like what you see? Visit the ' +\n",
              "            '<a target=\"_blank\" href=https://colab.research.google.com/notebooks/data_table.ipynb>data table notebook</a>'\n",
              "            + ' to learn more about interactive tables.';\n",
              "          element.innerHTML = '';\n",
              "          dataTable['output_type'] = 'display_data';\n",
              "          await google.colab.output.renderOutput(dataTable, element);\n",
              "          const docLink = document.createElement('div');\n",
              "          docLink.innerHTML = docLinkHtml;\n",
              "          element.appendChild(docLink);\n",
              "        }\n",
              "      </script>\n",
              "    </div>\n",
              "  </div>\n",
              "  "
            ]
          },
          "metadata": {},
          "execution_count": 8
        }
      ]
    },
    {
      "cell_type": "code",
      "source": [
        "\n",
        "data[\"Type\"]=data[\"Casos\"].apply(lambda x : type(x))\n",
        "data[\"Type\"].value_counts()\n"
      ],
      "metadata": {
        "colab": {
          "base_uri": "https://localhost:8080/"
        },
        "id": "IhmlCsI_3xYL",
        "outputId": "8b42913b-41da-4316-d0c6-b19937dce10d"
      },
      "execution_count": null,
      "outputs": [
        {
          "output_type": "execute_result",
          "data": {
            "text/plain": [
              "<class 'float'>    107328\n",
              "<class 'str'>       64816\n",
              "Name: Type, dtype: int64"
            ]
          },
          "metadata": {},
          "execution_count": 26
        }
      ]
    },
    {
      "cell_type": "code",
      "source": [
        "data[data[\"Casos\"]==\"1,364\"]"
      ],
      "metadata": {
        "colab": {
          "base_uri": "https://localhost:8080/",
          "height": 81
        },
        "id": "T5ZBzFAM32pP",
        "outputId": "f4692cca-0a4e-41f6-d219-e957033c64c8"
      },
      "execution_count": null,
      "outputs": [
        {
          "output_type": "execute_result",
          "data": {
            "text/plain": [
              "        Año  Semana Eventos o daños Departamento Distrito Provincia  Ubigeo  \\\n",
              "76223  2017      15          Dengue        PIURA    PIURA     PIURA  200101   \n",
              "\n",
              "       Casos  UBIGEO CCDD IDPROV           Type  \n",
              "76223  1,364  200101   20   2001  <class 'str'>  "
            ],
            "text/html": [
              "\n",
              "  <div id=\"df-a3600346-d2d2-4a72-9275-bd232d18daeb\">\n",
              "    <div class=\"colab-df-container\">\n",
              "      <div>\n",
              "<style scoped>\n",
              "    .dataframe tbody tr th:only-of-type {\n",
              "        vertical-align: middle;\n",
              "    }\n",
              "\n",
              "    .dataframe tbody tr th {\n",
              "        vertical-align: top;\n",
              "    }\n",
              "\n",
              "    .dataframe thead th {\n",
              "        text-align: right;\n",
              "    }\n",
              "</style>\n",
              "<table border=\"1\" class=\"dataframe\">\n",
              "  <thead>\n",
              "    <tr style=\"text-align: right;\">\n",
              "      <th></th>\n",
              "      <th>Año</th>\n",
              "      <th>Semana</th>\n",
              "      <th>Eventos o daños</th>\n",
              "      <th>Departamento</th>\n",
              "      <th>Distrito</th>\n",
              "      <th>Provincia</th>\n",
              "      <th>Ubigeo</th>\n",
              "      <th>Casos</th>\n",
              "      <th>UBIGEO</th>\n",
              "      <th>CCDD</th>\n",
              "      <th>IDPROV</th>\n",
              "      <th>Type</th>\n",
              "    </tr>\n",
              "  </thead>\n",
              "  <tbody>\n",
              "    <tr>\n",
              "      <th>76223</th>\n",
              "      <td>2017</td>\n",
              "      <td>15</td>\n",
              "      <td>Dengue</td>\n",
              "      <td>PIURA</td>\n",
              "      <td>PIURA</td>\n",
              "      <td>PIURA</td>\n",
              "      <td>200101</td>\n",
              "      <td>1,364</td>\n",
              "      <td>200101</td>\n",
              "      <td>20</td>\n",
              "      <td>2001</td>\n",
              "      <td>&lt;class 'str'&gt;</td>\n",
              "    </tr>\n",
              "  </tbody>\n",
              "</table>\n",
              "</div>\n",
              "      <button class=\"colab-df-convert\" onclick=\"convertToInteractive('df-a3600346-d2d2-4a72-9275-bd232d18daeb')\"\n",
              "              title=\"Convert this dataframe to an interactive table.\"\n",
              "              style=\"display:none;\">\n",
              "        \n",
              "  <svg xmlns=\"http://www.w3.org/2000/svg\" height=\"24px\"viewBox=\"0 0 24 24\"\n",
              "       width=\"24px\">\n",
              "    <path d=\"M0 0h24v24H0V0z\" fill=\"none\"/>\n",
              "    <path d=\"M18.56 5.44l.94 2.06.94-2.06 2.06-.94-2.06-.94-.94-2.06-.94 2.06-2.06.94zm-11 1L8.5 8.5l.94-2.06 2.06-.94-2.06-.94L8.5 2.5l-.94 2.06-2.06.94zm10 10l.94 2.06.94-2.06 2.06-.94-2.06-.94-.94-2.06-.94 2.06-2.06.94z\"/><path d=\"M17.41 7.96l-1.37-1.37c-.4-.4-.92-.59-1.43-.59-.52 0-1.04.2-1.43.59L10.3 9.45l-7.72 7.72c-.78.78-.78 2.05 0 2.83L4 21.41c.39.39.9.59 1.41.59.51 0 1.02-.2 1.41-.59l7.78-7.78 2.81-2.81c.8-.78.8-2.07 0-2.86zM5.41 20L4 18.59l7.72-7.72 1.47 1.35L5.41 20z\"/>\n",
              "  </svg>\n",
              "      </button>\n",
              "      \n",
              "  <style>\n",
              "    .colab-df-container {\n",
              "      display:flex;\n",
              "      flex-wrap:wrap;\n",
              "      gap: 12px;\n",
              "    }\n",
              "\n",
              "    .colab-df-convert {\n",
              "      background-color: #E8F0FE;\n",
              "      border: none;\n",
              "      border-radius: 50%;\n",
              "      cursor: pointer;\n",
              "      display: none;\n",
              "      fill: #1967D2;\n",
              "      height: 32px;\n",
              "      padding: 0 0 0 0;\n",
              "      width: 32px;\n",
              "    }\n",
              "\n",
              "    .colab-df-convert:hover {\n",
              "      background-color: #E2EBFA;\n",
              "      box-shadow: 0px 1px 2px rgba(60, 64, 67, 0.3), 0px 1px 3px 1px rgba(60, 64, 67, 0.15);\n",
              "      fill: #174EA6;\n",
              "    }\n",
              "\n",
              "    [theme=dark] .colab-df-convert {\n",
              "      background-color: #3B4455;\n",
              "      fill: #D2E3FC;\n",
              "    }\n",
              "\n",
              "    [theme=dark] .colab-df-convert:hover {\n",
              "      background-color: #434B5C;\n",
              "      box-shadow: 0px 1px 3px 1px rgba(0, 0, 0, 0.15);\n",
              "      filter: drop-shadow(0px 1px 2px rgba(0, 0, 0, 0.3));\n",
              "      fill: #FFFFFF;\n",
              "    }\n",
              "  </style>\n",
              "\n",
              "      <script>\n",
              "        const buttonEl =\n",
              "          document.querySelector('#df-a3600346-d2d2-4a72-9275-bd232d18daeb button.colab-df-convert');\n",
              "        buttonEl.style.display =\n",
              "          google.colab.kernel.accessAllowed ? 'block' : 'none';\n",
              "\n",
              "        async function convertToInteractive(key) {\n",
              "          const element = document.querySelector('#df-a3600346-d2d2-4a72-9275-bd232d18daeb');\n",
              "          const dataTable =\n",
              "            await google.colab.kernel.invokeFunction('convertToInteractive',\n",
              "                                                     [key], {});\n",
              "          if (!dataTable) return;\n",
              "\n",
              "          const docLinkHtml = 'Like what you see? Visit the ' +\n",
              "            '<a target=\"_blank\" href=https://colab.research.google.com/notebooks/data_table.ipynb>data table notebook</a>'\n",
              "            + ' to learn more about interactive tables.';\n",
              "          element.innerHTML = '';\n",
              "          dataTable['output_type'] = 'display_data';\n",
              "          await google.colab.output.renderOutput(dataTable, element);\n",
              "          const docLink = document.createElement('div');\n",
              "          docLink.innerHTML = docLinkHtml;\n",
              "          element.appendChild(docLink);\n",
              "        }\n",
              "      </script>\n",
              "    </div>\n",
              "  </div>\n",
              "  "
            ]
          },
          "metadata": {},
          "execution_count": 10
        }
      ]
    },
    {
      "cell_type": "code",
      "source": [
        "\n",
        "import re\n",
        "def normaliza(text):\n",
        "    if type(text)==str:\n",
        "        text = re.sub(r'(\\d+),(\\d+)', r'\\1\\2', text)\n",
        "        text=float(text)\n",
        "    return text\n"
      ],
      "metadata": {
        "id": "9YDO1Yy93608"
      },
      "execution_count": null,
      "outputs": []
    },
    {
      "cell_type": "code",
      "source": [
        "data[\"Casos_num\"]=data[\"Casos\"].apply(normaliza)"
      ],
      "metadata": {
        "id": "TMvSUhby39A8"
      },
      "execution_count": null,
      "outputs": []
    },
    {
      "cell_type": "markdown",
      "source": [
        "3.- Use geopandas to plot the number of cases in 2021 by the district using a continuous legend. Do not forget to indicate the color of NA values.\n"
      ],
      "metadata": {
        "id": "OdzuYKx03_vA"
      }
    },
    {
      "cell_type": "code",
      "source": [
        "!pip install mplleaflet"
      ],
      "metadata": {
        "colab": {
          "base_uri": "https://localhost:8080/"
        },
        "id": "Pj__qPYx4P8N",
        "outputId": "32eaa83d-31bc-4296-c07f-134cbbf42d03"
      },
      "execution_count": null,
      "outputs": [
        {
          "output_type": "stream",
          "name": "stdout",
          "text": [
            "Looking in indexes: https://pypi.org/simple, https://us-python.pkg.dev/colab-wheels/public/simple/\n",
            "Collecting mplleaflet\n",
            "  Downloading mplleaflet-0.0.5.tar.gz (37 kB)\n",
            "  Preparing metadata (setup.py) ... \u001b[?25l\u001b[?25hdone\n",
            "Requirement already satisfied: jinja2 in /usr/local/lib/python3.9/dist-packages (from mplleaflet) (3.1.2)\n",
            "Requirement already satisfied: six in /usr/local/lib/python3.9/dist-packages (from mplleaflet) (1.15.0)\n",
            "Requirement already satisfied: MarkupSafe>=2.0 in /usr/local/lib/python3.9/dist-packages (from jinja2->mplleaflet) (2.1.2)\n",
            "Building wheels for collected packages: mplleaflet\n",
            "  Building wheel for mplleaflet (setup.py) ... \u001b[?25l\u001b[?25hdone\n",
            "  Created wheel for mplleaflet: filename=mplleaflet-0.0.5-py3-none-any.whl size=28581 sha256=e58aaadcb25311097a6781cbfc85e82d875b4d7ae8be2ada36b9c6a7658a6de3\n",
            "  Stored in directory: /root/.cache/pip/wheels/54/11/d6/5d25309bb8b662bd29880f7ffec893b66ffa677086a436c041\n",
            "Successfully built mplleaflet\n",
            "Installing collected packages: mplleaflet\n",
            "Successfully installed mplleaflet-0.0.5\n"
          ]
        }
      ]
    },
    {
      "cell_type": "code",
      "source": [
        "\n",
        "data2021=data[data[\"Año\"]==2021]\n",
        "import geopandas as gpd\n",
        "import matplotlib.pyplot as plt\n",
        "import mplleaflet\n",
        "path_shp = \"../Diplomado_PUCP/_data/LIMITE_DISTRITAL_2020_INEI/INEI_LIMITE_DISTRITAL.shp\"\n",
        "districts_shp = gpd.read_file(path_shp)\n"
      ],
      "metadata": {
        "id": "uvAD1_I44Cd1"
      },
      "execution_count": null,
      "outputs": []
    },
    {
      "cell_type": "code",
      "source": [
        "districts_shp.head(3)"
      ],
      "metadata": {
        "id": "R0R7XfLZ4lea"
      },
      "execution_count": null,
      "outputs": []
    },
    {
      "cell_type": "code",
      "source": [
        "merged = districts_shp.merge(data2021[[\"Casos_num\",\"UBIGEO\"]],on=\"UBIGEO\")"
      ],
      "metadata": {
        "id": "ZVKO3Evu4nWZ"
      },
      "execution_count": null,
      "outputs": []
    },
    {
      "cell_type": "code",
      "source": [
        "merged.head(3)"
      ],
      "metadata": {
        "id": "TMXcSFLa4pq4"
      },
      "execution_count": null,
      "outputs": []
    },
    {
      "cell_type": "code",
      "source": [
        "fig, ax = plt.subplots(figsize=(10, 10))"
      ],
      "metadata": {
        "id": "b2MTTx5u4uW2"
      },
      "execution_count": null,
      "outputs": []
    },
    {
      "cell_type": "code",
      "source": [
        "merged.plot(column='Casos_num', cmap='Greens', ax=ax, legend=True, legend_kwds={'label': 'Number of Cases'})"
      ],
      "metadata": {
        "id": "xD1Sqera4wO5"
      },
      "execution_count": null,
      "outputs": []
    },
    {
      "cell_type": "code",
      "source": [
        "# set the title and axis labels\n",
        "ax.set_title('Number of DENGUE Cases 2021 by District')\n",
        "ax.set_xlabel('Longitude')\n",
        "ax.set_ylabel('Latitude')\n"
      ],
      "metadata": {
        "id": "-RhxjacP4zPp"
      },
      "execution_count": null,
      "outputs": []
    },
    {
      "cell_type": "code",
      "source": [
        "\n",
        "# add color for NA values\n",
        "ax.set_facecolor('lightgrey')"
      ],
      "metadata": {
        "id": "84zxrz6g41N8"
      },
      "execution_count": null,
      "outputs": []
    },
    {
      "cell_type": "markdown",
      "source": [
        "5.- Use geopandas to plot the number of cases by the department for all the years using subplots. Every subplot for each year. Do not forget to indicate the color of NA values. Use this shapefile. For this task, you will have to aggregate shapefiles at the department level.\n"
      ],
      "metadata": {
        "id": "4EvdY4Oq47kZ"
      }
    },
    {
      "cell_type": "code",
      "source": [
        "path_shp2 = \"../Diplomado_PUCP/_data/INEI_LIMITE_DEPARTAMENTAL/INEI_LIMITE_DEPARTAMENTAL.shp\"\n",
        "departments_shp = gpd.read_file(path_shp2)"
      ],
      "metadata": {
        "id": "9xquZCJe4-PE"
      },
      "execution_count": null,
      "outputs": []
    },
    {
      "cell_type": "code",
      "source": [
        "departments_shp.head(2)"
      ],
      "metadata": {
        "id": "kvkcp3Rv4_8E"
      },
      "execution_count": null,
      "outputs": []
    },
    {
      "cell_type": "code",
      "source": [
        "# Aggregate the data by department and year\n",
        "agg_data = data.groupby([\"Año\", \"Departamento\"])[\"Casos_num\"].sum().reset_index()\n"
      ],
      "metadata": {
        "id": "3lHvR_kP5DJ_"
      },
      "execution_count": null,
      "outputs": []
    },
    {
      "cell_type": "code",
      "source": [
        "#Loop over years\n",
        "years = sorted(data.Año.unique())\n",
        "ncols = 3\n",
        "nrows = (len(years)+ncols-1)//ncols"
      ],
      "metadata": {
        "id": "Wep76qaB5FL-"
      },
      "execution_count": null,
      "outputs": []
    },
    {
      "cell_type": "code",
      "source": [
        "#creating subplots\n",
        "\n",
        "fig, axs = plt.subplots(nrows, ncols, figsize=(15, 15))"
      ],
      "metadata": {
        "id": "C7Q-W0zP5HGf"
      },
      "execution_count": null,
      "outputs": []
    },
    {
      "cell_type": "code",
      "source": [
        "# Loop over years\n",
        "for i, year in enumerate(years):\n",
        "    # Filter data for year\n",
        "    year_data = agg_data[agg_data['Año'] == year]\n",
        "    "
      ],
      "metadata": {
        "id": "Dg5J9TkI5KYl"
      },
      "execution_count": null,
      "outputs": []
    },
    {
      "cell_type": "code",
      "source": [
        "# Merge with shapefile\n",
        "    merged = departments_shp.merge(year_data, left_on='NOMBDEP', right_on='Departamento')"
      ],
      "metadata": {
        "id": "oUjrJNHR5NXg"
      },
      "execution_count": null,
      "outputs": []
    },
    {
      "cell_type": "code",
      "source": [
        "# Plot\n",
        "    ax = axs[i // ncols, i % ncols]\n",
        "    \n",
        "    merged.plot(column='Casos_num', cmap='Blues', ax=ax, legend=True, legend_kwds={'label': 'Number of Cases'})\n",
        "    ax.set_title(year)\n",
        "    ax.axis('off')"
      ],
      "metadata": {
        "id": "_FshTqF-5Phu"
      },
      "execution_count": null,
      "outputs": []
    },
    {
      "cell_type": "code",
      "source": [
        "# add color for NA values\n",
        "    ax.set_facecolor('red')"
      ],
      "metadata": {
        "id": "op3BqqD95RTZ"
      },
      "execution_count": null,
      "outputs": []
    },
    {
      "cell_type": "code",
      "source": [
        "for j in range(i+1, nrows*ncols):\n",
        "    axs[j // ncols, j % ncols].set_visible(False)\n",
        "    \n",
        "plt.tight_layout()\n",
        "plt.show()"
      ],
      "metadata": {
        "id": "gbLPOnZd5TGg"
      },
      "execution_count": null,
      "outputs": []
    }
  ]
}